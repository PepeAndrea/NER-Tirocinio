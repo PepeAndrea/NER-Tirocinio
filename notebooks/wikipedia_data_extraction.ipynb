{
 "cells": [
  {
   "cell_type": "markdown",
   "source": [
    "# Lista vulcani"
   ],
   "metadata": {
    "collapsed": false,
    "pycharm": {
     "name": "#%% md\n"
    }
   }
  },
  {
   "cell_type": "code",
   "execution_count": 1,
   "outputs": [],
   "source": [
    "import pandas as pd # library for data analysis\n",
    "import requests # library to handle requests\n",
    "from bs4 import BeautifulSoup # library to parse HTML documents"
   ],
   "metadata": {
    "collapsed": false,
    "pycharm": {
     "name": "#%%\n"
    }
   }
  },
  {
   "cell_type": "code",
   "execution_count": 2,
   "outputs": [
    {
     "data": {
      "text/plain": "['Alicudi',\n 'Amiata',\n 'Campi Flegrei',\n 'Campi Flegrei Mar Sicilia',\n 'Alban Hills (Colli Albani)',\n 'Cimini Hills (monti Cimini)',\n 'Mount Etna',\n 'Filicudi',\n 'Ischia',\n 'Larderello',\n 'Linosa',\n 'Lipari',\n 'Ora Caldera',\n 'Palinuro Seamount',\n 'Panarea',\n 'Pantelleria',\n 'Salina',\n 'Stromboli',\n 'Ustica',\n 'Marsili',\n 'Mount Vesuvius',\n 'Vico',\n 'Vulcano',\n 'Vulcanello',\n 'Vulsini',\n 'Monte Vulture',\n 'Capraia',\n 'Ferdinandea',\n 'Monte Lauro',\n 'Roccamonfina',\n 'Sabatini complex']"
     },
     "execution_count": 2,
     "metadata": {},
     "output_type": "execute_result"
    }
   ],
   "source": [
    "wikiurl=\"https://en.wikipedia.org/wiki/List_of_volcanoes_in_Italy\"\n",
    "table_class=\"wikitable sortable jquery-tablesorter\"\n",
    "response=requests.get(wikiurl)\n",
    "# parse data from the html into a beautifulsoup object\n",
    "soup = BeautifulSoup(response.text, 'html.parser')\n",
    "indiatable=soup.find('table',{'class':\"wikitable\"})\n",
    "df=pd.read_html(str(indiatable))\n",
    "# convert list to dataframe\n",
    "df=pd.DataFrame(df[0])\n",
    "#print(df.head())\n",
    "# drop the unwanted columns\n",
    "data = df.drop([\"Elevation (m)\", \"Elevation (ft)\",\"Coordinates\",\"Most Recent Eruption\"], axis=1)\n",
    "# rename columns for ease\n",
    "data = data.rename(columns={\"State or union territory\": \"State\",\"Population(2011)[3]\": \"Population\"})\n",
    "volcanoes = data.Name.values.tolist()\n",
    "to_remove = list(filter(lambda x: '[' in x,volcanoes))\n",
    "for el in to_remove:\n",
    "    volcanoes.remove(el)\n",
    "    volcanoes.append(el[0:-3])\n",
    "volcanoes"
   ],
   "metadata": {
    "collapsed": false,
    "pycharm": {
     "name": "#%%\n"
    }
   }
  },
  {
   "cell_type": "markdown",
   "source": [
    "# Lista citta fondate dai romani"
   ],
   "metadata": {
    "collapsed": false,
    "pycharm": {
     "name": "#%% md\n"
    }
   }
  },
  {
   "cell_type": "code",
   "execution_count": 3,
   "outputs": [
    {
     "data": {
      "text/plain": "[['Roma', 'Rome'],\n ['Cosa', 'Orbetello'],\n ['Ariminum', 'Rimini'],\n ['Belum', 'Belluno'],\n ['Placentia', 'Piacenza'],\n ['Tarraco', 'Tarragona'],\n ['Italica', 'Santiponce'],\n ['Modoetia', 'Monza'],\n ['Salernum', 'Salerno'],\n ['Bononia', 'Bologna'],\n ['Forum Livii', 'Forlì'],\n ['Regium Lepidi', 'Reggio Emilia'],\n ['Aquileia', 'Aquileia'],\n ['Colonia Patricia Corduba', 'Córdoba'],\n ['Ascrivium', 'Kotor'],\n ['Valentia Edetanorum', 'Valencia'],\n ['Scalabis', 'Santarém'],\n ['Villa Euracini', 'Póvoa de Varzim'],\n ['Palma', 'Palma de Mallorca'],\n ['Colonia Narbo Martius', 'Narbonne'],\n ['Massa', 'Massa'],\n ['Pistoria', 'Pistoia'],\n ['Confloenta', 'Duratón'],\n ['Gerunda', 'Girona'],\n ['Pompaelo', 'Pamplona'],\n ['Naissus', 'Niš'],\n ['Brigantium', 'A Coruña'],\n ['Florentia', 'Florence'],\n ['Vesontio', 'Besançon'],\n ['Lutetia Parisiorum', 'Paris'],\n ['Iulia Aemona', 'Ljubljana'],\n ['Atuatuca Tungrorum', 'Tongeren'],\n ['Iulia Romula Hispalis', 'Seville'],\n ['Augusta Raurica', 'Augst'],\n ['Noviodunum', 'Nyon'],\n ['Lugdunum', 'Lyon'],\n ['Siscia', 'Sisak'],\n ['Marsonia', 'Slavonski Brod'],\n ['Augusta Treverorum', 'Trier'],\n ['Castra Legionis', 'León'],\n ['Nemausus', 'Nîmes'],\n ['Augusta Taurinorum', 'Turin'],\n ['Augusta Praetoria Salassorum', 'Aosta'],\n ['Emerita Augusta', 'Mérida'],\n ['Norba Caesarina', 'Cáceres'],\n ['Lucus Augusta', 'Lugo'],\n ['Caesarea', 'Caesarea'],\n ['Bracara Augusta', 'Braga'],\n ['Curia Raetorum', 'Chur'],\n ['Novaesium', 'Neuss'],\n ['Pons Drusi', 'Bolzano'],\n ['Ovilava', 'Wels'],\n ['Iuvavum', 'Salzburg'],\n ['Augusta Vindelicorum', 'Augsburg'],\n ['Turicum', 'Zurich'],\n ['Asturica Augusta', 'Astorga'],\n ['Borbetomagus', 'Worms'],\n ['Caesaraugusta', 'Zaragoza'],\n ['Sirmium', 'Sremska Mitrovica'],\n ['Sorviodurum', 'Straubing'],\n ['Mogontiacum', 'Mainz'],\n ['Argentoratum', 'Strasbourg'],\n ['Bonna', 'Bonn'],\n ['Noviomagus', 'Speyer'],\n ['Castellum apud Confluentes', 'Koblenz'],\n ['Divodurum', 'Metz'],\n ['Caesaromagus', 'Beauvais'],\n ['Ambianum', 'Amiens'],\n ['Faventia Paterna Barcino', 'Barcelona'],\n ['Abila', 'Avila'],\n ['Lousonna', 'Lausanne'],\n ['Ulpia Noviomagus Batavorum', 'Nijmegen'],\n ['Poetovium', 'Ptuj'],\n ['Rigomagus', 'Remagen'],\n ['Aquae Mattiacorum', 'Wiesbaden'],\n ['Mursa', 'Osijek'],\n ['Vindonissa', 'Windisch'],\n ['Aventicum', 'Avenches'],\n ['Praetorium Agrippinae', 'Valkenburg'],\n ['Lopodunum', 'Ladenburg'],\n ['Lugdunum Batavorum', 'Katwijk'],\n ['Aequum', 'Čitluk'],\n ['Camulodunum', 'Colchester'],\n ['Londinium', 'London'],\n ['Albanianis', 'Alphen aan den Rijn'],\n ['Lauri', 'Woerden'],\n ['Durovernum Cantiacorum', 'Canterbury'],\n ['Regulbium', 'Reculver'],\n ['Rutupiae', 'Richborough'],\n ['Novae', 'Svishtov'],\n ['Colonia Claudia Savariensum', 'Szombathely'],\n ['Viminacium', 'Kostolac'],\n ['Traiectum', 'Utrecht'],\n ['Matilo', 'Leiden'],\n ['Forum Hadriani', 'Voorburg'],\n ['Nigrum Pullum', 'Zwammerdam'],\n ['Lindum Colonia', 'Lincoln'],\n ['Ratae Corieltauvorum', 'Leicester'],\n ['Durocobrivis', 'Dunstable'],\n ['Colonia Agrippina', 'Cologne'],\n ['Durocornovium', 'Swindon'],\n ['Verulamium', 'St. Albans'],\n ['Letocetum', 'Wall'],\n ['Dubris', 'Dover'],\n ['Danum', 'Doncaster'],\n ['Mediolanum', 'Whitchurch'],\n ['Isca Dumnoniorum', 'Exeter'],\n ['Blestium', 'Monmouth'],\n ['Viroconium Cornoviorum', 'Wroxeter'],\n ['Aquae Sulis', 'Bath'],\n ['Durnovaria', 'Dorchester'],\n ['Lindinis', 'Ilchester'],\n ['Ad Flexum', 'Mosonmagyaróvár'],\n ['Clausentum', 'Southampton'],\n ['Venta Belgarum', 'Winchester'],\n ['Calleva Atrebatum', 'Silchester'],\n ['Duroliponte', 'Cambridge'],\n ['Condate', 'Northwich'],\n ['Corinium Dobunnorum', 'Cirencester'],\n ['Eboracum', 'York'],\n ['Luguvalium', 'Carlisle'],\n ['Arae Flaviae', 'Rottweil'],\n ['Isca Augusta', 'Caerleon'],\n ['Lagentium', 'Castleford'],\n ['Moridunum', 'Carmarthen'],\n ['Venta Silurum', 'Caerwent'],\n ['Deva Victrix', 'Chester'],\n ['Mamucium', 'Manchester'],\n ['Olicana', 'Ilkley'],\n ['Vinovia', 'Binchester'],\n ['Inveresk Roman Fort', 'Musselburgh'],\n ['Coria', 'Corbridge'],\n ['Gerulata', 'Bratislava'],\n ['Vindobona', 'Vienna'],\n ['Biriciana', 'Weißenburg in Bayern'],\n ['Cannstatt Castrum', 'Stuttgart'],\n ['Colonia Nervia Glevensium', 'Gloucester'],\n ['Sumelocenna', 'Rottenburg am Neckar'],\n ['Traiectum ad Nicrem', 'Heidelberg'],\n ['Castra Batavar', 'Passau'],\n ['Nida', 'Frankfurt'],\n ['Lactodurum', 'Towcester'],\n ['Bovium', 'Cowbridge'],\n ['Burgodunum', 'Leeds'],\n ['Lentia', 'Linz'],\n ['Aquae Granni', 'Aachen'],\n ['Portus Victoriae Iuliobrigensium', 'Santander'],\n ['Complutum', 'Alcalá de Henares'],\n ['Aeminium', 'Coimbra'],\n ['Traiectum ad Mosam', 'Maastricht'],\n ['Coriovallum', 'Heerlen'],\n ['Portus Lemanis', 'Lympne'],\n ['Colonia Pietas Iulia Pola Pollentia Herculanea', 'Pula'],\n ['Andautonia', 'Zagreb'],\n ['Salona', 'Solin'],\n ['Cibalae', 'Vinkovci'],\n ['Aquae Helveticae', 'Baden'],\n ['Storgosia', 'Pleven'],\n ['Comagenis', 'Tulln'],\n ['Nicopolis ad Istrum', 'Nikyup, Veliko Tarnovo'],\n ['Aquincum', 'Budapest'],\n ['Nicopolis ad Nestum', 'Garmen'],\n ['Apulum', 'Alba Iulia'],\n ['Pons Aelius', 'Newcastle upon Tyne'],\n ['Durovigutum', 'Godmanchester'],\n ['Hadrianopolis', 'Edirne'],\n ['Ala', 'Aalen'],\n ['Castra Regina', 'Regensburg'],\n ['Theranda', 'Prizren'],\n ['Pomaria', 'Tlemcen'],\n ['Partiscum', 'Szeged'],\n ['Calisia', 'Kalisz'],\n ['Urbs Aurelianorum', 'Orléans'],\n ['Constantinopolis', 'Istanbul'],\n ['Venetiae', 'Venice'],\n ['Ragusium', 'Dubrovnik']]"
     },
     "execution_count": 3,
     "metadata": {},
     "output_type": "execute_result"
    }
   ],
   "source": [
    "wikiurl=\"https://en.wikipedia.org/wiki/List_of_cities_founded_by_the_Romans\"\n",
    "table_class=\"wikitable sortable jquery-tablesorter\"\n",
    "response=requests.get(wikiurl)\n",
    "# parse data from the html into a beautifulsoup object\n",
    "soup = BeautifulSoup(response.text, 'html.parser')\n",
    "indiatable=soup.find('table',{'class':\"wikitable\"})\n",
    "df=pd.read_html(str(indiatable))\n",
    "# convert list to dataframe\n",
    "df=pd.DataFrame(df[0])\n",
    "#print(df.head())\n",
    "# drop the unwanted columns\n",
    "data = df.drop([\"Foundation\", \"Modern country\"], axis=1)\n",
    "# rename columns for ease\n",
    "data = data.rename(columns={\"State or union territory\": \"State\",\"Population(2011)[3]\": \"Population\"})\n",
    "roman_founded = data.values.tolist()\n",
    "\n",
    "to_remove_flag = [',','(','-']\n",
    "\n",
    "for latin,modern in roman_founded:\n",
    "    for flag in to_remove_flag:\n",
    "        if flag in latin or flag in modern:\n",
    "            try:\n",
    "                roman_founded.remove([latin,modern])\n",
    "            except ValueError:\n",
    "                continue\n",
    "\n",
    "roman_founded"
   ],
   "metadata": {
    "collapsed": false,
    "pycharm": {
     "name": "#%%\n"
    }
   }
  },
  {
   "cell_type": "markdown",
   "source": [
    "# Lista città conquistate dai romani"
   ],
   "metadata": {
    "collapsed": false,
    "pycharm": {
     "name": "#%% md\n"
    }
   }
  },
  {
   "cell_type": "code",
   "execution_count": 4,
   "outputs": [
    {
     "data": {
      "text/plain": "[['Pompeii', 'Pompei'],\n ['Capua', 'Capua'],\n ['Thessalonica', 'Thessaloniki'],\n ['Volubilis', 'Meknes'],\n ['Sopianae', 'Pécs'],\n ['Arrabona', 'Győr'],\n ['Scarbantia', 'Sopron'],\n ['Barium', 'Bari'],\n ['Antiochia', 'Antakya'],\n ['Asculum', 'Ascoli Piceno'],\n ['Dyrrachium', 'Durrës'],\n ['Brixia', 'Brescia'],\n ['Mediolanum', 'Milan'],\n ['Comum', 'Como'],\n ['Colonia Augusta Achaica Patrensis', 'Patras'],\n ['Tingi', 'Tangier'],\n ['Attalia', 'Antalya'],\n ['Patavium', 'Padua'],\n ['Spalatum', 'Split'],\n ['Nicomedia', 'İzmit'],\n ['Nicaea', 'İznik'],\n ['Tarsus', 'Tarsus'],\n ['Berytus', 'Beirut'],\n ['Ulpia Serdica', 'Sofia'],\n ['Poetovio', 'Ptuj'],\n ['Neviodunum', 'Drnovo'],\n ['Celeia', 'Celje'],\n ['Nauportus', 'Vrhnika'],\n ['Solva', 'Esztergom'],\n ['Odessos', 'Varna'],\n ['Colonia Claudia Caesarea', 'Cherchell'],\n ['Aquae Calidae', 'Burgas'],\n ['Develtos', 'Debelt, Burgas'],\n ['Philippopolis', 'Plovdiv'],\n ['Ulpia Augusta Traiana', 'Stara Zagora'],\n ['Diocletianopolis', 'Hisarya'],\n ['Trapezus', 'Trabzon'],\n ['Sexaginta Prista', 'Ruse'],\n ['Abritus', 'Razgrad'],\n ['Marcianopolis', 'Devnya'],\n ['Durostorum', 'Silistra'],\n ['Pautalia', 'Kyustendil'],\n ['Artaxata', 'Artashat']]"
     },
     "execution_count": 4,
     "metadata": {},
     "output_type": "execute_result"
    }
   ],
   "source": [
    "wikiurl=\"https://en.wikipedia.org/wiki/List_of_cities_founded_by_the_Romans\"\n",
    "table_class=\"wikitable sortable jquery-tablesorter\"\n",
    "response=requests.get(wikiurl)\n",
    "# parse data from the html into a beautifulsoup object\n",
    "soup = BeautifulSoup(response.text, 'html.parser')\n",
    "indiatable=soup.find_all('table',{'class':\"wikitable\"})\n",
    "df=pd.read_html(str(indiatable[1]))\n",
    "# convert list to dataframe\n",
    "df=pd.DataFrame(df[0])\n",
    "#print(df.head())\n",
    "# drop the unwanted columns\n",
    "data = df.drop([\"Conquest\", \"Modern country\"], axis=1)\n",
    "# rename columns for ease\n",
    "data = data.rename(columns={\"State or union territory\": \"State\",\"Population(2011)[3]\": \"Population\"})\n",
    "roman_conq = data.values.tolist()\n",
    "to_remove_flag = [',','(','-']\n",
    "\n",
    "for latin,modern in roman_conq:\n",
    "    for flag in to_remove_flag:\n",
    "        if flag in latin or flag in modern:\n",
    "            try:\n",
    "                roman_conq.remove([latin,modern])\n",
    "            except ValueError:\n",
    "                continue\n",
    "\n",
    "roman_conq"
   ],
   "metadata": {
    "collapsed": false,
    "pycharm": {
     "name": "#%%\n"
    }
   }
  },
  {
   "cell_type": "markdown",
   "source": [
    "# Città greche"
   ],
   "metadata": {
    "collapsed": false,
    "pycharm": {
     "name": "#%% md\n"
    }
   }
  },
  {
   "cell_type": "code",
   "execution_count": 5,
   "outputs": [
    {
     "data": {
      "text/plain": "['Abdera',\n 'Abila',\n 'Abydos',\n 'Acanthus',\n 'Acharnae',\n 'Actium',\n 'Adramyttium',\n 'Aegae',\n 'Aegina',\n 'Aegium',\n 'Aenus',\n 'Agrinion',\n 'Aigosthena',\n 'Akrai',\n 'Akrillai',\n 'Akroinon',\n 'Alalcomenae',\n 'Alalia',\n 'Alexandretta',\n 'Alexandria Arachosia',\n 'Alexandria Ariana',\n 'Alexandria Asiana',\n 'Alexandria Bucephalous',\n 'Alexandria in the Caucasus',\n 'Alexandria Eschate',\n 'Alexandria on the Indus',\n 'Alexandria on the Oxus',\n 'Alexandria Troas',\n 'Alinda',\n 'Amarynthos',\n 'Amaseia',\n 'Ambracia',\n 'Amida',\n 'Amisos',\n 'Amnisos',\n 'Amphicaea',\n 'Amphigeneia',\n 'Amphipolis',\n 'Amphissa',\n 'Antigonea',\n 'Antipatrea',\n 'Antioch on the Maeander',\n 'Antioch on the Orontes',\n 'Antiochia ad Taurum',\n 'Andros',\n 'Apamea',\n 'Apamea',\n 'Apamea',\n 'Apamea',\n 'Apamea Myrlea',\n 'Apamea',\n 'Apamea',\n 'Apamea Ragiana',\n 'Aphidnae',\n 'Apollonia',\n 'Apollonia',\n 'Apollonia',\n 'Apollonia',\n 'Apollonia',\n 'Apollonia',\n 'Apollonia',\n 'Apollonia',\n 'Apollonia',\n 'Apollonia',\n 'Apollonia',\n 'Apollonia ad Rhyndacum',\n 'Apollonia Pontica',\n 'Apsaros',\n 'Argos',\n 'Arsuf',\n 'Artanes',\n 'Artemita',\n 'Argyroupoli',\n 'Asine',\n 'Asine',\n 'Asine',\n 'Asine',\n 'Asklepios',\n 'Aspendos',\n 'Assus',\n 'Astacus',\n 'Athenai',\n 'Athmonia',\n 'Aulon',\n 'Aytos',\n 'Baris',\n 'Bhrytos',\n 'Borysthenes',\n 'Berge',\n 'Boura',\n 'Brauron',\n 'Byblos',\n 'Byzantium',\n 'Bythinion',\n 'Callipolis',\n 'Calydon',\n 'Caphyae',\n 'Carystus',\n 'Cebrene',\n 'Celenderis',\n 'Chalcedon',\n 'Chalcis',\n 'Chamaizi',\n 'Chersonesos',\n 'Chimaira',\n 'Chios',\n 'Chytri',\n 'Clazomenae',\n 'Cleonae',\n 'Cnidus',\n 'Colosse',\n 'Corcyra',\n 'Corcyra Melaena',\n 'Croton',\n 'Cyme',\n 'Cyrene',\n 'Cythera',\n 'Delos',\n 'Delphi',\n 'Demetrias',\n 'Dicaearchia',\n 'Didyma',\n 'Dion',\n 'Dioscurias',\n 'Dodona',\n 'Dorylaion',\n 'Dyme',\n 'Edessa',\n 'Edessa',\n 'Elateia',\n 'Eleusis',\n 'Eleutherna',\n 'Emporion',\n 'Ephesus',\n 'Ephyra',\n 'Epidamnos',\n 'Epidauros',\n 'Eresos',\n 'Eretria',\n 'Erythrae',\n 'Eubea',\n 'Gangra',\n 'Gaza',\n 'Gela',\n 'Golgi\\xa0[el]',\n 'Gonnos',\n 'Gorgippia',\n 'Gournia',\n 'Gortyn',\n 'Gythium',\n 'Hagios Onouphrios',\n 'Hagia Triada',\n 'Halicarnassus',\n 'Halieis',\n 'Helike',\n 'Heliopolis',\n 'Hellespontos',\n 'Helorus',\n 'Hēmeroskopeion',\n 'Heraclea Perinthus',\n 'Heraclea',\n 'Heraclea',\n 'Heraclea by Latmus',\n 'Heraclea Cybistra',\n 'Heraclea Lyncestis',\n 'Heraclea Minoa',\n 'Heraclea Pontica',\n 'Heraclea Sintica',\n 'Heraclea Trachis',\n 'Hermione',\n 'Hermonassa',\n 'Hierapetra',\n 'Hierapolis',\n 'Himera',\n 'Histria',\n 'Hubla Minor',\n 'Hubla Gereatis',\n 'Hubla Heraea',\n 'Hyele',\n 'Ialysos',\n 'Iasus',\n 'Idalium',\n 'Imbros',\n 'Iolcus',\n 'Issa',\n 'Itanos',\n 'Ithaca',\n 'Juktas',\n 'Kaiete',\n 'Kallipolis',\n 'Kallipolis',\n 'Kallipolis',\n 'Kamares',\n 'Kameiros',\n 'Kannia',\n 'Kamarina',\n 'Kasmenai',\n 'Katane',\n 'Kerkinitida',\n 'Kepoi',\n 'Kimmerikon',\n 'Kios',\n 'Klazomenai',\n 'Knidos',\n 'Knossos',\n 'Korinthos',\n 'Kos',\n 'Kourion',\n 'Kúmē',\n 'Kydonia',\n 'Kynos',\n 'Kyrenia',\n 'Lamia',\n 'Lampsacus',\n 'Laodicea in Syria',\n 'Laodicea on the Lycus',\n 'Laodicea in Media',\n 'Laodicea Combusta',\n 'Laodicea ad Libanum',\n 'Laodicea',\n 'Laodicea Pontica',\n 'Laodicea',\n 'Laodicea in Phoenicia',\n 'Lapithos',\n 'Larissa',\n 'Larissa',\n 'Lato',\n 'Laüs',\n 'Lebena',\n 'Lefkada',\n 'Lekhaion',\n 'Leibethra',\n 'Leontinoi',\n 'Lepreum',\n 'Lessa',\n 'Lilaea',\n 'Lindus',\n 'Lissus',\n 'Epizephyrian Locris',\n 'Madytos',\n 'Magnesia on the Maeander',\n 'Magnesia ad Sipylum',\n 'Mallia',\n 'Mantineia',\n 'Marathon',\n 'Marmara',\n 'Maroneia',\n 'Masis',\n 'Massalia',\n 'Megalopolis',\n 'Megara',\n 'Megara Hublaea',\n 'Mesembria',\n 'Messene',\n 'Metapontum',\n 'Methana',\n 'Methone',\n 'Methumna',\n 'Miletos',\n 'Misenum',\n 'Mochlos',\n 'Monastiraki',\n 'Morgantina',\n 'Mulai',\n 'Mukenai',\n 'Mylasa',\n 'Myndus',\n 'Myonia',\n 'Myra',\n 'Myrmekion',\n 'Mutilene',\n 'Myos',\n 'Nauplíos',\n 'Naucratis',\n 'Naupactus',\n 'Naxos',\n 'Naxos',\n 'Neapoli',\n 'Neapolis',\n 'Neapolis',\n 'Neapolis',\n 'Neapolis',\n 'Nemea',\n 'Nicaea',\n 'Nicaea',\n 'Nicopolis',\n 'Nirou Hani',\n 'Nymphaion',\n 'Nymphaion',\n 'Nysa',\n 'Oenoe',\n 'Oenoe',\n 'Oenus',\n 'Odessos',\n 'Odessos',\n 'Olbia',\n 'Olbia',\n 'Olous',\n 'Olympia',\n 'Olynthus',\n 'Opus',\n 'Oricos',\n 'Orestias',\n 'Oreus',\n 'Oropus',\n 'Onchesmos',\n 'Pactye',\n 'Pagasae',\n 'Palaikastro',\n 'Pandosia',\n 'Pandosia',\n 'Pandosia',\n 'Panticapaeum',\n 'Paphos',\n 'Parium',\n 'Paros',\n 'Parthenope',\n 'Patrae',\n 'Pavlopetri',\n 'Pegai',\n 'Peiraieús',\n 'Pella',\n 'Percote',\n 'Perga',\n 'Pergamum',\n 'Petsofas',\n 'Phaistos',\n 'Phálēron',\n 'Phanagoria',\n 'Pharae',\n 'Pharnacia',\n 'Pharos',\n 'Phaselis',\n 'Phasis',\n 'Philippi',\n 'Pithekussa',\n 'Philippopolis',\n 'Platanos',\n 'Phlius',\n 'Pherae',\n 'Phocaea',\n 'Phoenice',\n 'Pinara',\n 'Pisa',\n 'Pitane',\n 'Pitiunt',\n 'Pixous',\n 'Plataea',\n 'Poseidonia',\n 'Potidaea',\n 'Priapus',\n 'Priene',\n 'Prousa',\n 'Pseira',\n 'Psychro',\n 'Pteleum',\n 'Pydna',\n 'Pylos',\n 'Pyrgos',\n 'Pyrgos',\n 'Rhamnus',\n 'Rhithymna',\n 'Rhode',\n 'Rhodes',\n 'Rizinia',\n 'Salamis',\n 'Samos',\n 'Scyllaeum',\n 'Selinus',\n 'Semasus',\n 'Sestos',\n 'Side',\n 'Sidon',\n 'Siteia',\n 'Sklavokampos',\n 'Smyrna',\n 'Soli',\n 'Sozopolis',\n 'Sparta',\n 'Stagirus',\n 'Stratos',\n 'Stymphalos',\n 'Sybaris',\n 'Syrakousai',\n 'Tanagra',\n 'Tanais',\n 'Tegea',\n 'Temnos',\n 'Tenedos',\n 'Tenea',\n 'Thapsos',\n 'Thebai',\n 'Therma',\n 'Thespiae',\n 'Thronium',\n 'Thoricus',\n 'Thyreum',\n 'Thyria',\n 'Tiruns',\n 'Tithoraea',\n 'Tomis',\n 'Tragurion',\n 'Trapeze',\n 'Troliton',\n 'Troy',\n 'Tylissos',\n 'Tyras',\n 'Tyros',\n 'Vasiliki',\n 'Vathypetros',\n 'Zakynthos',\n 'Zakros',\n 'Zankle']"
     },
     "execution_count": 5,
     "metadata": {},
     "output_type": "execute_result"
    }
   ],
   "source": [
    "wikiurl=\"https://en.wikipedia.org/wiki/List_of_ancient_Greek_cities\"\n",
    "table_class=\"wikitable\"\n",
    "response=requests.get(wikiurl)\n",
    "# parse data from the html into a beautifulsoup object\n",
    "soup = BeautifulSoup(response.text, 'html.parser')\n",
    "indiatable=soup.find_all('table',{'class':\"wikitable\"})\n",
    "unfiltered_greek_cities = []\n",
    "for table in indiatable:\n",
    "    df=pd.read_html(str(table))\n",
    "    # convert list to dataframe\n",
    "    df=pd.DataFrame(df[0])\n",
    "    #print(df.head())\n",
    "    # drop the unwanted columns\n",
    "    data = df.drop([1, 2,3], axis=1)\n",
    "    # rename columns for ease\n",
    "    #data = data.rename(columns={\"State or union territory\": \"State\",\"Population(2011)[3]\": \"Population\"})\n",
    "    tmpData = data.values.tolist()[1:]\n",
    "    unfiltered_greek_cities.extend(tmpData)\n",
    "to_remove_flag = [',','(','-',')']\n",
    "greek_cities = []\n",
    "for city in unfiltered_greek_cities:\n",
    "    if any(flag in city[0] for flag in to_remove_flag):\n",
    "        continue\n",
    "    else:\n",
    "        greek_cities.append(city[0])\n",
    "\n",
    "greek_cities"
   ],
   "metadata": {
    "collapsed": false,
    "pycharm": {
     "name": "#%%\n"
    }
   }
  },
  {
   "cell_type": "markdown",
   "source": [
    "# Epoch"
   ],
   "metadata": {
    "collapsed": false,
    "pycharm": {
     "name": "#%% md\n"
    }
   }
  },
  {
   "cell_type": "code",
   "execution_count": 6,
   "outputs": [],
   "source": [
    "epochs = [\n",
    "    'Phanerozoic',\n",
    "    'Proterozoic',\n",
    "    'Archean',\n",
    "    'Hadean',\n",
    "    'Cenozoic',\n",
    "    'Mesozoic',\n",
    "    'Paleozoic',\n",
    "    'Neoproterozoic',\n",
    "    'Mesoproterozoic',\n",
    "    'Paleoproterozoic',\n",
    "    'Neoarchean',\n",
    "    'Mesoarchean',\n",
    "    'Paleoarchean',\n",
    "    'Eoarchean',\n",
    "    'Quaternary',\n",
    "    'Neogene',\n",
    "    'Paleogene',\n",
    "    'Cretaceous',\n",
    "    'Jurassic',\n",
    "    'Triassic',\n",
    "    'Permian',\n",
    "    'Carboniferous',\n",
    "    'Devonian',\n",
    "    'Silurian',\n",
    "    'Ordovician',\n",
    "    'Cambrian',\n",
    "    'Ediacaran',\n",
    "    'Cryogenian',\n",
    "    'Tonian',\n",
    "    'Stenian',\n",
    "    'Ectasian',\n",
    "    'Calymmian',\n",
    "    'Statherian',\n",
    "    'Orosirian',\n",
    "    'Rhyacian',\n",
    "    'Siderian',\n",
    "    'Holocene',\n",
    "    'Pleistocene',\n",
    "    'Pliocene',\n",
    "    'Miocene',\n",
    "    'Oligocene',\n",
    "    'Eocene',\n",
    "    'Paleocene',\n",
    "    'Paleolithic',\n",
    "    'Mesolithic',\n",
    "    'Neolithic',\n",
    "    'Bronze Age',\n",
    "    'Iron Age',\n",
    "    'Protohistory',\n",
    "    'Middle Age',\n",
    "]\n",
    "\n",
    "civilization = [\n",
    "    'Romans',\n",
    "    'Greeks',\n",
    "]"
   ],
   "metadata": {
    "collapsed": false,
    "pycharm": {
     "name": "#%%\n"
    }
   }
  },
  {
   "cell_type": "markdown",
   "source": [
    "# Costruzioen dei dizionari"
   ],
   "metadata": {
    "collapsed": false,
    "pycharm": {
     "name": "#%% md\n"
    }
   }
  },
  {
   "cell_type": "code",
   "execution_count": 10,
   "outputs": [],
   "source": [
    "patterns = []\n",
    "\n",
    "#Vulcani\n",
    "for volcan in volcanoes:\n",
    "    pattern = {\"label\": \"LOC\", \"pattern\": volcan}\n",
    "    patterns.append(pattern)\n",
    "\n",
    "#Città fondate dai romani\n",
    "for roman in roman_founded:\n",
    "    id_slug = roman[0].replace(\" \",\"\").lower()\n",
    "    latin = roman[0].split()\n",
    "    modern = roman[1].split()\n",
    "    pattern = {\"label\": \"GPE\", \"pattern\": [],\"id\":id_slug}\n",
    "    for el in latin:\n",
    "        pattern[\"pattern\"].append({\"LOWER\":el})\n",
    "    patterns.append(pattern)\n",
    "    pattern = {\"label\": \"GPE\", \"pattern\": [],\"id\":id_slug}\n",
    "    for el in modern:\n",
    "        pattern[\"pattern\"].append({\"LOWER\":el})\n",
    "    patterns.append(pattern)\n",
    "\n",
    "#Città conquistate dai romani\n",
    "for roman in roman_conq:\n",
    "    id_slug = roman[0].replace(\" \",\"\").lower()\n",
    "    latin = roman[0].split()\n",
    "    modern = roman[1].split()\n",
    "    pattern = {\"label\": \"GPE\", \"pattern\": [],\"id\":id_slug}\n",
    "    for el in latin:\n",
    "        pattern[\"pattern\"].append({\"LOWER\":el})\n",
    "    patterns.append(pattern)\n",
    "    pattern = {\"label\": \"GPE\", \"pattern\": [],\"id\":id_slug}\n",
    "    for el in modern:\n",
    "        pattern[\"pattern\"].append({\"LOWER\":el})\n",
    "    patterns.append(pattern)\n",
    "\n",
    "for greek in greek_cities:\n",
    "    pattern = {\"label\": \"GPE\", \"pattern\": greek}\n",
    "    patterns.append(pattern)\n",
    "\n",
    "for epoch in epochs:\n",
    "    pattern = {\"label\": \"DATE\", \"pattern\": epoch}\n",
    "    patterns.append(pattern)\n",
    "\n",
    "#print(patterns)\n",
    "import json\n",
    "with open(\"patterns.json\",\"w\") as file:\n",
    "    file.write(json.dumps(patterns))\n",
    "\n"
   ],
   "metadata": {
    "collapsed": false,
    "pycharm": {
     "name": "#%%\n"
    }
   }
  }
 ],
 "metadata": {
  "kernelspec": {
   "display_name": "Python 3",
   "language": "python",
   "name": "python3"
  },
  "language_info": {
   "codemirror_mode": {
    "name": "ipython",
    "version": 2
   },
   "file_extension": ".py",
   "mimetype": "text/x-python",
   "name": "python",
   "nbconvert_exporter": "python",
   "pygments_lexer": "ipython2",
   "version": "2.7.6"
  }
 },
 "nbformat": 4,
 "nbformat_minor": 0
}