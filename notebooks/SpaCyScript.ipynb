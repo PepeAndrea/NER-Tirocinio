{
 "cells": [
  {
   "cell_type": "markdown",
   "source": [
    "## Tokenization"
   ],
   "metadata": {
    "collapsed": false,
    "pycharm": {
     "name": "#%% md\n"
    }
   }
  },
  {
   "cell_type": "code",
   "execution_count": null,
   "outputs": [],
   "source": [
    "import spacy\n",
    "from spacy import displacy\n",
    "\n",
    "nlp = spacy.load(\"../evaluation/test_pdf_annotation/Model/HalfDef/model-best\")\n",
    "doc = nlp(\"Ischia Island is in the Golf of Naples near the two islands of Capri and Procida. In Naples, in the Phlegran Fields area the Greek founded the city ov Puteoli\")\n",
    "for token in doc:\n",
    "    print(token.text, token.pos_)"
   ],
   "metadata": {
    "collapsed": false,
    "pycharm": {
     "name": "#%%\n"
    }
   }
  },
  {
   "cell_type": "markdown",
   "source": [
    "## Part-of-speech tags and dependencies"
   ],
   "metadata": {
    "collapsed": false,
    "pycharm": {
     "name": "#%% md\n"
    }
   }
  },
  {
   "cell_type": "code",
   "execution_count": null,
   "outputs": [],
   "source": [
    "for token in doc:\n",
    "    print(token.text, token.lemma_, token.pos_, token.tag_, token.dep_,\n",
    "            token.shape_, token.is_alpha, token.is_stop)\n",
    "displacy.render(doc, style=\"dep\")"
   ],
   "metadata": {
    "collapsed": false,
    "pycharm": {
     "name": "#%%\n"
    }
   }
  },
  {
   "cell_type": "markdown",
   "source": [
    "## Named Entities"
   ],
   "metadata": {
    "collapsed": false,
    "pycharm": {
     "name": "#%% md\n"
    }
   }
  },
  {
   "cell_type": "code",
   "execution_count": null,
   "outputs": [],
   "source": [
    "for ent in doc.ents:\n",
    "    print(ent.text, ent.start_char, ent.end_char, ent.label_)\n",
    "displacy.render(doc, style=\"ent\")"
   ],
   "metadata": {
    "collapsed": false,
    "pycharm": {
     "name": "#%%\n"
    }
   }
  },
  {
   "cell_type": "markdown",
   "source": [
    "## Similiarity\n",
    "Il seguente frammento di codice utilizza la funzione similiarity con una trained pipeline che non fornisce i vettori di parole, dunque l'accuratezza è minore"
   ],
   "metadata": {
    "collapsed": false,
    "pycharm": {
     "name": "#%% md\n"
    }
   }
  },
  {
   "cell_type": "code",
   "execution_count": null,
   "outputs": [],
   "source": [
    "doc1 = nlp(\"I like salty fries and hamburgers.\")\n",
    "doc2 = nlp(\"Fast food tastes very good.\")\n",
    "\n",
    "# Similarity of two documents\n",
    "print(doc1, \"<->\", doc2, doc1.similarity(doc2))\n",
    "# Similarity of tokens and spans\n",
    "french_fries = doc1[2:4]\n",
    "burgers = doc1[5]\n",
    "print(french_fries, \"<->\", burgers, french_fries.similarity(burgers))\n"
   ],
   "metadata": {
    "collapsed": false,
    "pycharm": {
     "name": "#%%\n"
    }
   }
  },
  {
   "cell_type": "code",
   "execution_count": null,
   "outputs": [],
   "source": [
    "docTime = nlp(\"Yesterday was raining, today the sky is clear, Mr. Bean is funny.Osmosys is a new startup.Today is the 10.10.2010. I was in Paris for six years.\")\n",
    "\n",
    "for ent in docTime.ents:\n",
    "    print(ent.text, ent.label_)\n",
    "displacy.render(docTime, style=\"ent\")"
   ],
   "metadata": {
    "collapsed": false,
    "pycharm": {
     "name": "#%%\n"
    }
   }
  },
  {
   "cell_type": "markdown",
   "source": [
    "# Caricamento del modello, aggiunta del componente e successiva esportazione"
   ],
   "metadata": {
    "collapsed": false,
    "pycharm": {
     "name": "#%% md\n"
    }
   }
  },
  {
   "cell_type": "code",
   "execution_count": null,
   "outputs": [],
   "source": [
    "import spacy\n",
    "from spacy import displacy\n",
    "\n",
    "PATH_MODELLO = \"../evaluation/test_pdf_annotation/Model/HalfDef/model-best\"\n",
    "LEMMATIZER_SOURCE = \"en_core_web_lg\"\n",
    "nlp = spacy.load(PATH_MODELLO)\n",
    "lemmatizer_source= spacy.load(LEMMATIZER_SOURCE)\n",
    "\n",
    "nlp.add_pipe(\"lemmatizer\",source=lemmatizer_source)\n",
    "nlp.add_pipe(\"tagger\",source=lemmatizer_source,before=\"lemmatizer\")\n",
    "nlp.add_pipe(\"attribute_ruler\",source=lemmatizer_source,before=\"lemmatizer\")\n",
    "#ruler = nlp.add_pipe(\"entity_ruler\",before=\"ner\",config={\"overwrite_ents\":True})\n",
    "#ruler.add_patterns(patterns)\n",
    "\n",
    "nlp.to_disk(\"../evaluation/test_pdf_annotation/Model/TirocinioModelComplete\")\n",
    "\n"
   ],
   "metadata": {
    "collapsed": false,
    "pycharm": {
     "name": "#%%\n"
    }
   }
  },
  {
   "cell_type": "markdown",
   "source": [
    "# Elimina entità WOA dai dataset"
   ],
   "metadata": {
    "collapsed": false,
    "pycharm": {
     "name": "#%% md\n"
    }
   }
  },
  {
   "cell_type": "code",
   "execution_count": null,
   "outputs": [],
   "source": [
    "import json\n",
    "#Sostituire il path con il json dal quale eliminare le entià\n",
    "with open(\"../evaluation/test_pdf_annotation/datasets/No-WOA/Putignano.json\", \"r\") as json_patterns:\n",
    "    dataset = json.loads(json_patterns.read())\n",
    "\n",
    "removed = []\n",
    "\n",
    "for ann in dataset[\"annotations\"]:\n",
    "    index=0\n",
    "    for ent in ann[1][\"entities\"]:\n",
    "        if len(ent) == 3 and ent[2]==\"WORK_OF_ART\":\n",
    "            removed.append(ent)\n",
    "            ann[1][\"entities\"].remove(ent)\n",
    "            index += 1\n",
    "\n",
    "for ann in dataset[\"annotations\"]:\n",
    "    for ent in ann[1][\"entities\"]:\n",
    "        if len(ent) == 3 and ent[2]==\"WORK_OF_ART\":\n",
    "            removed.append(ent)\n",
    "            ann[1][\"entities\"].remove(ent)\n",
    "\n",
    "for ann in dataset[\"annotations\"]:\n",
    "    for ent in ann[1][\"entities\"]:\n",
    "        if len(ent) == 3 and ent[2]==\"WORK_OF_ART\":\n",
    "            removed.append(ent)\n",
    "            ann[1][\"entities\"].remove(ent)\n",
    "\n",
    "for el in removed:\n",
    "    print(el)\n",
    "\n",
    "\n",
    "#with open(\"NuovoFile.json\",\"w\") as file:\n",
    "#    file.write(json.dumps(dataset))"
   ],
   "metadata": {
    "collapsed": false,
    "pycharm": {
     "name": "#%%\n"
    }
   }
  }
 ],
 "metadata": {
  "kernelspec": {
   "display_name": "Python 3",
   "language": "python",
   "name": "python3"
  },
  "language_info": {
   "codemirror_mode": {
    "name": "ipython",
    "version": 2
   },
   "file_extension": ".py",
   "mimetype": "text/x-python",
   "name": "python",
   "nbconvert_exporter": "python",
   "pygments_lexer": "ipython2",
   "version": "2.7.6"
  }
 },
 "nbformat": 4,
 "nbformat_minor": 0
}